{
  "nbformat": 4,
  "nbformat_minor": 0,
  "metadata": {
    "colab": {
      "provenance": [],
      "authorship_tag": "ABX9TyPabfyZTX8TUvnTuzE9Vvyp",
      "include_colab_link": true
    },
    "kernelspec": {
      "name": "python3",
      "display_name": "Python 3"
    },
    "language_info": {
      "name": "python"
    }
  },
  "cells": [
    {
      "cell_type": "markdown",
      "metadata": {
        "id": "view-in-github",
        "colab_type": "text"
      },
      "source": [
        "<a href=\"https://colab.research.google.com/github/Abhi-GX/Wealthwise/blob/main/agent34.ipynb\" target=\"_parent\"><img src=\"https://colab.research.google.com/assets/colab-badge.svg\" alt=\"Open In Colab\"/></a>"
      ]
    },
    {
      "cell_type": "code",
      "execution_count": null,
      "metadata": {
        "id": "-ZtaUsbjCJxs",
        "colab": {
          "base_uri": "https://localhost:8080/"
        },
        "outputId": "64757f2f-e72b-4134-ab93-103ff6aeae4d"
      },
      "outputs": [
        {
          "output_type": "stream",
          "name": "stdout",
          "text": [
            "Collecting dotenv\n",
            "  Downloading dotenv-0.0.5.tar.gz (2.4 kB)\n",
            "  \u001b[1;31merror\u001b[0m: \u001b[1msubprocess-exited-with-error\u001b[0m\n",
            "  \n",
            "  \u001b[31m×\u001b[0m \u001b[32mpython setup.py egg_info\u001b[0m did not run successfully.\n",
            "  \u001b[31m│\u001b[0m exit code: \u001b[1;36m1\u001b[0m\n",
            "  \u001b[31m╰─>\u001b[0m See above for output.\n",
            "  \n",
            "  \u001b[1;35mnote\u001b[0m: This error originates from a subprocess, and is likely not a problem with pip.\n",
            "  Preparing metadata (setup.py) ... \u001b[?25l\u001b[?25herror\n",
            "\u001b[1;31merror\u001b[0m: \u001b[1mmetadata-generation-failed\u001b[0m\n",
            "\n",
            "\u001b[31m×\u001b[0m Encountered error while generating package metadata.\n",
            "\u001b[31m╰─>\u001b[0m See above for output.\n",
            "\n",
            "\u001b[1;35mnote\u001b[0m: This is an issue with the package mentioned above, not pip.\n",
            "\u001b[1;36mhint\u001b[0m: See above for details.\n"
          ]
        }
      ],
      "source": [
        "# pip install yfinance flask pyngrok\n",
        "# !pip install serpapi\n",
        "!pip install dotenv"
      ]
    },
    {
      "cell_type": "code",
      "source": [
        "from transformers import AutoTokenizer, AutoModelForSequenceClassification\n",
        "from serpapi import Client\n",
        "from typing import Dict, List, Union\n",
        "import torch\n",
        "import numpy as np\n",
        "import os\n",
        "# from dotenv import load_dotenv\n",
        "\n",
        "class NewsSentimentAnalyzer:\n",
        "    def __init__(self):\n",
        "        \"\"\"\n",
        "        Initialize the analyzer with SerpAPI and FinBERT models\n",
        "        \"\"\"\n",
        "        # Load environment variables\n",
        "        # load_dotenv()\n",
        "\n",
        "        # Setup SerpAPI\n",
        "        self.serpapi_key = \"aa7b9ef6bd5fc7bbd7badf1daa212bfcbef27f932cdf396a19cef92bcbf88c95\"\n",
        "        if not self.serpapi_key:\n",
        "            raise ValueError(\"SERPAPI_KEY must be set in environment variables\")\n",
        "\n",
        "        # Setup FinBERT\n",
        "        self.finbert_tokenizer = AutoTokenizer.from_pretrained(\"yiyanghkust/finbert-tone\")\n",
        "        self.finbert_model = AutoModelForSequenceClassification.from_pretrained(\"yiyanghkust/finbert-tone\")\n",
        "\n",
        "    def analyze_company_sentiment(\n",
        "        self,\n",
        "        company_name: str,\n",
        "        num_articles: int = 10\n",
        "    ) -> Dict[str, Union[float, List[Dict], str]]:\n",
        "        \"\"\"\n",
        "        Fetch news articles about a company and analyze their sentiment in one go\n",
        "\n",
        "        Args:\n",
        "            company_name (str): Name of the company to analyze\n",
        "            num_articles (int): Number of articles to retrieve and analyze\n",
        "\n",
        "        Returns:\n",
        "            dict: Analysis results including reputation score, sentiment distribution,\n",
        "                 and detailed article analysis\n",
        "        \"\"\"\n",
        "        try:\n",
        "            # Fetch news articles\n",
        "            client = Client(api_key=self.serpapi_key)\n",
        "            results = client.search({\n",
        "                'engine': 'google_news',\n",
        "                'q': company_name,\n",
        "                'gl': 'in',\n",
        "                'hl': 'en'\n",
        "            })\n",
        "\n",
        "            news_articles = results.get('news_results', [])[:num_articles]\n",
        "\n",
        "            if not news_articles:\n",
        "                return {\n",
        "                    \"status\": \"error\",\n",
        "                    \"message\": f\"No news articles found for {company_name}\"\n",
        "                }\n",
        "\n",
        "            # Analyze sentiment for each article\n",
        "            article_analyses = []\n",
        "            sentiment_counts = {'Positive': 0, 'Neutral': 0, 'Negative': 0}\n",
        "\n",
        "            for article in news_articles:\n",
        "                # Analyze sentiment\n",
        "                inputs = self.finbert_tokenizer(\n",
        "                    article['title'],\n",
        "                    return_tensors=\"pt\",\n",
        "                    truncation=True,\n",
        "                    max_length=512\n",
        "                )\n",
        "\n",
        "                with torch.no_grad():\n",
        "                    outputs = self.finbert_model(**inputs)\n",
        "                    predictions = torch.nn.functional.softmax(outputs.logits, dim=-1)\n",
        "\n",
        "                sentiment_scores = predictions.numpy()[0]\n",
        "                label_map = {0: 'Negative', 1: 'Neutral', 2: 'Positive'}\n",
        "                sentiment = label_map[np.argmax(sentiment_scores)]\n",
        "\n",
        "                # Update counts\n",
        "                sentiment_counts[sentiment] += 1\n",
        "\n",
        "                # Store analysis\n",
        "                article_analyses.append({\n",
        "                    'title': article['title'],\n",
        "                    'source': article.get('source', {}).get('name', 'Unknown'),\n",
        "                    'link': article.get('link', ''),\n",
        "                    'sentiment': sentiment,\n",
        "                    'sentiment_scores': {\n",
        "                        'Negative': float(sentiment_scores[0]),\n",
        "                        'Neutral': float(sentiment_scores[1]),\n",
        "                        'Positive': float(sentiment_scores[2])\n",
        "                    }\n",
        "                })\n",
        "\n",
        "            # Calculate metrics\n",
        "            total_articles = len(news_articles)\n",
        "            sentiment_distribution = {\n",
        "                sentiment: (count/total_articles * 100)\n",
        "                for sentiment, count in sentiment_counts.items()\n",
        "            }\n",
        "\n",
        "            # Calculate reputation score (0-100 scale)\n",
        "            sentiment_weights = {'Positive': 1, 'Neutral': 0, 'Negative': -1}\n",
        "            reputation_score = sum([\n",
        "                sentiment_weights[analysis['sentiment']]\n",
        "                for analysis in article_analyses\n",
        "            ]) / total_articles * 50 + 50\n",
        "\n",
        "            return {\n",
        "                \"status\": \"success\",\n",
        "                \"company_name\": company_name,\n",
        "                \"reputation_score\": round(reputation_score, 2),\n",
        "                \"sentiment_distribution\": {\n",
        "                    k: round(v, 2) for k, v in sentiment_distribution.items()\n",
        "                },\n",
        "                \"analyzed_articles\": article_analyses,\n",
        "                \"total_articles\": total_articles\n",
        "            }\n",
        "\n",
        "        except Exception as e:\n",
        "            return {\n",
        "                \"status\": \"error\",\n",
        "                \"message\": f\"Analysis failed: {str(e)}\"\n",
        "            }"
      ],
      "metadata": {
        "id": "Bljk6tQ_ml2i"
      },
      "execution_count": null,
      "outputs": []
    },
    {
      "cell_type": "code",
      "source": [
        "analyzer = NewsSentimentAnalyzer()"
      ],
      "metadata": {
        "id": "2oGqb7T9osca"
      },
      "execution_count": null,
      "outputs": []
    },
    {
      "cell_type": "code",
      "source": [
        "class CompanyNewsSentimentTool(BaseTool):\n",
        "    \"\"\"\n",
        "    Company News Sentiment Analysis Tool for comprehensive reputation analysis.\n",
        "\n",
        "    This tool analyzes news articles and sentiment for a specific company.\n",
        "\n",
        "    Args:\n",
        "        company_name (str, required): The name of the company to analyze.\n",
        "            Example: 'Apple Inc.', 'Google'\n",
        "        num_articles (int, optional): Number of articles to analyze. Default is 10.\n",
        "\n",
        "    Returns:\n",
        "        str: Formatted analysis results including reputation score and sentiment distribution.\n",
        "\n",
        "    Usage Example:\n",
        "        tool = CompanyNewsSentimentTool()\n",
        "        analysis = tool.run(company_name='Apple Inc.', num_articles=5)\n",
        "\n",
        "    Note:\n",
        "        - Requires valid company name\n",
        "        - Requires initialized NewsSentimentAnalyzer\n",
        "        - Returns error message if analysis fails\n",
        "    \"\"\"\n",
        "    name: str = \"Company News Sentiment Analysis Tool\"\n",
        "    description: str = (\n",
        "        \"Analyzes news sentiment and calculates reputation score for a given company. \"\n",
        "        \"Input requires a company name and optional number of articles to analyze.\"\n",
        "    )\n",
        "\n",
        "    def __init__(self, analyzer: NewsSentimentAnalyzer):\n",
        "        \"\"\"\n",
        "        Initialize the tool with a NewsSentimentAnalyzer instance.\n",
        "\n",
        "        Args:\n",
        "            analyzer (NewsSentimentAnalyzer): Pre-initialized analyzer instance\n",
        "        \"\"\"\n",
        "        super().__init__()\n",
        "        self.analyzer = analyzer\n",
        "\n",
        "    def _run(self, company_name: str, num_articles: int = 10) -> str:\n",
        "        \"\"\"\n",
        "        Analyze news sentiment for the specified company.\n",
        "\n",
        "        Args:\n",
        "            company_name (str): Name of the company to analyze\n",
        "            num_articles (int): Number of articles to analyze (default: 10)\n",
        "\n",
        "        Returns:\n",
        "            str: Formatted analysis results\n",
        "        \"\"\"\n",
        "        try:\n",
        "            results = self.analyzer.analyze_company_sentiment(company_name, num_articles)\n",
        "\n",
        "            if results[\"status\"] == \"success\":\n",
        "                output = [\n",
        "                    f\"Company Analysis: {company_name}\",\n",
        "                    f\"Number of Articles Analyzed: {results['total_articles']}\",\n",
        "                    f\"Overall Reputation Score: {results['reputation_score']}\",\n",
        "                    \"\\nSentiment Distribution:\",\n",
        "                ]\n",
        "                for sentiment, percentage in results['sentiment_distribution'].items():\n",
        "                    output.append(f\"  {sentiment}: {percentage}%\")\n",
        "                output.append(\"\\nKey Articles and Their Sentiment:\")\n",
        "                for i, article in enumerate(results['analyzed_articles'][:3], 1):\n",
        "                    output.append(f\"{i}. {article['title']}\")\n",
        "                    output.append(f\"   Source: {article['source']}\")\n",
        "                    output.append(f\"   Sentiment: {article['sentiment']}\")\n",
        "                    output.append(\"\")\n",
        "\n",
        "                return \"\\n\".join(output)\n",
        "            else:\n",
        "                return f\"Analysis Error: {results['message']}\"\n",
        "\n",
        "        except Exception as e:\n",
        "            return f\"Tool Execution Error: {str(e)}\""
      ],
      "metadata": {
        "id": "iHxttYbBsBe6"
      },
      "execution_count": null,
      "outputs": []
    },
    {
      "cell_type": "code",
      "source": [
        "# Initialize the analyzer\n",
        "analyzer = NewsSentimentAnalyzer()\n",
        "\n",
        "# Analyze a company\n",
        "results = analyzer.analyze_company_sentiment(\"Apple Inc.\", num_articles=10)\n",
        "\n",
        "# Check results\n",
        "if results[\"status\"] == \"success\":\n",
        "    print(f\"Reputation Score: {results['reputation_score']}\")\n",
        "    print(\"\\nSentiment Distribution:\")\n",
        "    for sentiment, percentage in results['sentiment_distribution'].items():\n",
        "        print(f\"{sentiment}: {percentage}%\")\n",
        "\n",
        "    print(\"\\nTop 3 Articles:\")\n",
        "    for article in results['analyzed_articles'][:3]:\n",
        "        print(f\"- {article['title']} ({article['sentiment']})\")\n",
        "else:\n",
        "    print(f\"Error: {results['message']}\")"
      ],
      "metadata": {
        "colab": {
          "base_uri": "https://localhost:8080/"
        },
        "id": "IMzNq1QBmnr4",
        "outputId": "c6e6b641-07a0-4528-f36d-65d3f8cd9a07"
      },
      "execution_count": null,
      "outputs": [
        {
          "output_type": "stream",
          "name": "stdout",
          "text": [
            "Reputation Score: 10.0\n",
            "\n",
            "Sentiment Distribution:\n",
            "Positive: 10.0%\n",
            "Neutral: 0.0%\n",
            "Negative: 90.0%\n",
            "\n",
            "Top 3 Articles:\n",
            "- Apple mulls smart home doorbell with support for facial recognition: Report (Negative)\n",
            "- Apple reportedly eyes home security market with face-scanning smart doorbell (Negative)\n",
            "- How Did Apple Get So Big? (Negative)\n"
          ]
        }
      ]
    },
    {
      "cell_type": "code",
      "source": [
        "import yfinance as yf\n",
        "\n",
        "def get_stock_metrics_with_calculations(ticker_symbol):\n",
        "    try:\n",
        "        # Fetch stock data\n",
        "        stock = yf.Ticker(ticker_symbol)\n",
        "        info = stock.info\n",
        "        financials = stock.financials\n",
        "        balance_sheet = stock.balance_sheet\n",
        "\n",
        "        # Helper function to calculate growth rate\n",
        "        def calculate_growth(current, past):\n",
        "            if current and past and past != 0:\n",
        "                return ((current - past) / past) * 100\n",
        "            return \"N/A\"\n",
        "\n",
        "        # Extract revenue and net income for growth calculations\n",
        "        try:\n",
        "            revenue = financials.loc['Total Revenue']\n",
        "            net_income = financials.loc['Net Income']\n",
        "\n",
        "            sales_growth_3y = calculate_growth(revenue.iloc[0], revenue.iloc[3]) if len(revenue) > 3 else \"N/A\"\n",
        "            sales_growth_5y = calculate_growth(revenue.iloc[0], revenue.iloc[5]) if len(revenue) > 5 else \"N/A\"\n",
        "            profit_growth_3y = calculate_growth(net_income.iloc[0], net_income.iloc[3]) if len(net_income) > 3 else \"N/A\"\n",
        "            profit_growth_5y = calculate_growth(net_income.iloc[0], net_income.iloc[5]) if len(net_income) > 5 else \"N/A\"\n",
        "        except Exception as e:\n",
        "            sales_growth_3y = sales_growth_5y = profit_growth_3y = profit_growth_5y = f\"Error: {e}\"\n",
        "\n",
        "        # Extract equity for ROE calculations\n",
        "        try:\n",
        "            equity = balance_sheet.loc['Total Stockholder Equity']\n",
        "            roe_3y = calculate_growth(net_income.iloc[0], equity.iloc[3]) if len(equity) > 3 and len(net_income) > 3 else \"N/A\"\n",
        "            roe_5y = calculate_growth(net_income.iloc[0], equity.iloc[5]) if len(equity) > 5 and len(net_income) > 5 else \"N/A\"\n",
        "        except Exception as e:\n",
        "            roe_3y = roe_5y = f\"Error: {e}\"\n",
        "\n",
        "        history = stock.history(period=\"5y\")\n",
        "        try:\n",
        "            return_1y = calculate_growth(history['Close'].iloc[-1], history['Close'].iloc[-252]) if len(history) > 252 else \"N/A\"\n",
        "            return_3y = calculate_growth(history['Close'].iloc[-1], history['Close'].iloc[-756]) if len(history) > 756 else \"N/A\"\n",
        "            return_5y = calculate_growth(history['Close'].iloc[-1], history['Close'].iloc[-1260]) if len(history) > 1260 else \"N/A\"\n",
        "        except Exception as e:\n",
        "            return_1y = return_3y = return_5y = f\"Error: {e}\"\n",
        "        metrics = {\n",
        "            \"Sales Growth 3 Years\": sales_growth_3y,\n",
        "            \"Sales Growth 5 Years\": sales_growth_5y,\n",
        "            \"Profit Growth 3 Years\": profit_growth_3y,\n",
        "            \"Profit Growth 5 Years\": profit_growth_5y,\n",
        "            \"Average ROE 3 Years\": roe_3y,\n",
        "            \"Average ROE 5 Years\": roe_5y,\n",
        "            \"Return over 1 Year\": return_1y,\n",
        "            \"Return over 3 Years\": return_3y,\n",
        "            \"Return over 5 Years\": return_5y,\n",
        "            \"Price to Free Cash Flow\": info.get(\"priceToFreeCashflow\", \"N/A\"),\n",
        "            \"Price to Earnings (P/E)\": info.get(\"forwardPE\", \"N/A\"),\n",
        "            \"Price to Book (P/B)\": info.get(\"priceToBook\", \"N/A\"),\n",
        "            \"Enterprise Value to EBITDA (EV/EBITDA)\": info.get(\"enterpriseToEbitda\", \"N/A\"),\n",
        "            \"Dividend Yield\": info.get(\"dividendYield\", \"N/A\"),\n",
        "            \"Price to Sales (P/S)\": info.get(\"priceToSalesTrailing12Months\", \"N/A\"),\n",
        "            \"Return on Equity (ROE)\": info.get(\"returnOnEquity\", \"N/A\"),\n",
        "            \"Return on Assets (ROA)\": info.get(\"returnOnAssets\", \"N/A\"),\n",
        "            \"Gross Margin\": info.get(\"grossMargins\", \"N/A\"),\n",
        "            \"Operating Margin\": info.get(\"operatingMargins\", \"N/A\"),\n",
        "            \"Net Profit Margin\": info.get(\"netMargins\", \"N/A\"),\n",
        "            \"Market Capitalization\": info.get(\"marketCap\", \"N/A\"),\n",
        "            \"Enterprise Value\": info.get(\"enterpriseValue\", \"N/A\"),\n",
        "            \"Beta\": info.get(\"beta\", \"N/A\"),\n",
        "            \"Shares Outstanding\": info.get(\"sharesOutstanding\", \"N/A\"),\n",
        "            \"Debt to Equity Ratio\": info.get(\"debtToEquity\", \"N/A\"),\n",
        "            \"Current Ratio\": info.get(\"currentRatio\", \"N/A\"),\n",
        "            \"Quick Ratio\": info.get(\"quickRatio\", \"N/A\"),\n",
        "            \"Free Cash Flow Yield\": info.get(\"freeCashflow\", \"N/A\"),\n",
        "            \"Revenue per Share\": info.get(\"revenuePerShare\", \"N/A\"),\n",
        "            \"EPS Growth\": info.get(\"earningsGrowth\", \"N/A\"),\n",
        "            \"52-Week High\": info.get(\"fiftyTwoWeekHigh\", \"N/A\"),\n",
        "            \"52-Week Low\": info.get(\"fiftyTwoWeekLow\", \"N/A\"),\n",
        "            \"Average Trading Volume\": info.get(\"averageVolume\", \"N/A\"),\n",
        "            \"Relative Strength Index (RSI)\": \"N/A\",  # Requires separate calculation\n",
        "            \"Volatility (Weekly)\": \"N/A\",  # Requires separate calculation\n",
        "            \"Volatility (Monthly)\": \"N/A\",  # Requires separate calculation\n",
        "        }\n",
        "\n",
        "        return metrics\n",
        "    except Exception as e:\n",
        "        return {\"Error\": str(e)}"
      ],
      "metadata": {
        "id": "ieujzxgre7sO"
      },
      "execution_count": null,
      "outputs": []
    },
    {
      "cell_type": "code",
      "source": [
        "# Initialize the analyzer\n",
        "analyzer = NewsSentimentAnalyzer(\n",
        "    serpapi_key=\"your_serpapi_key\",\n",
        "    finbert_tokenizer=your_tokenizer,\n",
        "    finbert_model=your_model\n",
        ")\n",
        "\n",
        "# Analyze a company\n",
        "results = analyzer.analyze_company_sentiment(\"Apple Inc.\", num_articles=10)\n",
        "\n",
        "# Check results\n",
        "if results[\"status\"] == \"success\":\n",
        "    print(f\"Reputation Score: {results['reputation_score']}\")\n",
        "    print(\"\\nSentiment Distribution:\")\n",
        "    for sentiment, percentage in results['sentiment_distribution'].items():\n",
        "        print(f\"{sentiment}: {percentage}%\")\n",
        "\n",
        "    print(\"\\nTop 3 Articles:\")\n",
        "    for article in results['analyzed_articles'][:3]:\n",
        "        print(f\"- {article['title']} ({article['sentiment']})\")\n",
        "else:\n",
        "    print(f\"Error: {results['message']}\")"
      ],
      "metadata": {
        "colab": {
          "base_uri": "https://localhost:8080/"
        },
        "id": "nrw5m_9pCUK1",
        "outputId": "d021f789-d32d-4882-fc00-0d14d8acdde6"
      },
      "execution_count": null,
      "outputs": [
        {
          "output_type": "execute_result",
          "data": {
            "text/plain": [
              "{'Sales Growth 3 Years': 204.4817442464094,\n",
              " 'Sales Growth 5 Years': 'N/A',\n",
              " 'Profit Growth 3 Years': -109.25154755205402,\n",
              " 'Profit Growth 5 Years': 'N/A',\n",
              " 'Average ROE 3 Years': \"Error: 'Total Stockholder Equity'\",\n",
              " 'Average ROE 5 Years': \"Error: 'Total Stockholder Equity'\",\n",
              " 'Return over 1 Year': 17.63065304558377,\n",
              " 'Return over 3 Years': -2.427746212810283,\n",
              " 'Return over 5 Years': 'N/A',\n",
              " 'Price to Free Cash Flow': 'N/A',\n",
              " 'Price to Earnings (P/E)': 7.425688,\n",
              " 'Price to Book (P/B)': 'N/A',\n",
              " 'Enterprise Value to EBITDA (EV/EBITDA)': 8.154,\n",
              " 'Dividend Yield': 'N/A',\n",
              " 'Price to Sales (P/S)': 0.20689704,\n",
              " 'Return on Equity (ROE)': 'N/A',\n",
              " 'Return on Assets (ROA)': 0.02753,\n",
              " 'Gross Margin': 0.24033001,\n",
              " 'Operating Margin': 0.049099997,\n",
              " 'Net Profit Margin': 'N/A',\n",
              " 'Market Capitalization': 11092370432,\n",
              " 'Enterprise Value': 41315373056,\n",
              " 'Beta': 1.399,\n",
              " 'Shares Outstanding': 657131008,\n",
              " 'Debt to Equity Ratio': 'N/A',\n",
              " 'Current Ratio': 0.566,\n",
              " 'Quick Ratio': 0.422,\n",
              " 'Free Cash Flow Yield': 445375008,\n",
              " 'Revenue per Share': 81.697,\n",
              " 'EPS Growth': 'N/A',\n",
              " '52-Week High': 18.2,\n",
              " '52-Week Low': 9.07,\n",
              " 'Average Trading Volume': 29793307,\n",
              " 'Relative Strength Index (RSI)': 'N/A',\n",
              " 'Volatility (Weekly)': 'N/A',\n",
              " 'Volatility (Monthly)': 'N/A'}"
            ]
          },
          "metadata": {},
          "execution_count": 5
        }
      ]
    },
    {
      "cell_type": "code",
      "source": [
        "import requests\n",
        "from crewai_tools import BaseTool\n",
        "from typing import Dict, Any, Optional\n",
        "\n",
        "class StockDataTool(BaseTool):\n",
        "    \"\"\"\n",
        "    Stock Data Retrieval Tool for comprehensive financial analysis.\n",
        "\n",
        "    This tool retrieves detailed financial information for a specific stock.\n",
        "\n",
        "    Args:\n",
        "        ticker (str, required): The stock ticker symbol to retrieve data for.\n",
        "            Example: 'AAPL' for Apple Inc., 'GOOGL' for Alphabet Inc.\n",
        "\n",
        "    Returns:\n",
        "        dict: Comprehensive financial data for the specified stock.\n",
        "\n",
        "    Usage Example:\n",
        "        tool = StockDataTool()\n",
        "        stock_data = tool.run(ticker='AAPL')\n",
        "\n",
        "    Note:\n",
        "        - Ticker should be a valid stock symbol\n",
        "        - Requires a working connection to the data source\n",
        "        - Returns None or raises an error if data cannot be retrieved\n",
        "    \"\"\"\n",
        "    name: str = \"Stock Data Retrieval Tool\"\n",
        "    description: str = (\n",
        "        \"Retrieves comprehensive financial data for a given stock ticker. \"\n",
        "        \"Input requires a valid stock ticker symbol (e.g., 'AAPL', 'GOOGL').\"\n",
        "    )\n",
        "\n",
        "    def _run(self, ticker: str):\n",
        "        \"\"\"\n",
        "        Retrieve comprehensive stock data for the specified ticker.\n",
        "\n",
        "        Args:\n",
        "            ticker (str): Stock ticker symbol to retrieve data for.\n",
        "\n",
        "        Returns:\n",
        "            dict: Comprehensive stock financial information\n",
        "        \"\"\"\n",
        "        return get_comprehensive_stock_data(ticker)\n",
        "\n",
        "stock_data_tool=StockDataTool()\n"
      ],
      "metadata": {
        "id": "bO1p1OrcCOMv"
      },
      "execution_count": null,
      "outputs": []
    },
    {
      "cell_type": "code",
      "source": [
        "import requests\n",
        "from crewai_tools import BaseTool\n",
        "from typing import Dict, Any\n",
        "\n",
        "class SectorPerformanceTool(BaseTool):\n",
        "    \"\"\"\n",
        "    Tool to retrieve current sector performance data.\n",
        "\n",
        "    Returns current sector performance from Financial Modeling Prep API.\n",
        "    \"\"\"\n",
        "    name: str = \"Sector Performance Tool\"\n",
        "    description: str = \"Retrieves current sector performance data across different sectors\"\n",
        "\n",
        "    def _run(self, *args, **kwargs) -> Dict[str, Any]:\n",
        "        \"\"\"\n",
        "        Fetch current sectors performance data.\n",
        "\n",
        "        Returns:\n",
        "            Dict containing sector performance data or error information\n",
        "        \"\"\"\n",
        "        url = \"https://financialmodelingprep.com/api/v3/sectors-performance?apikey=jC73g3RPCMZgUjI53dgjJsyuUszaZ2MX\"\n",
        "        try:\n",
        "            response = requests.get(url)\n",
        "            response.raise_for_status()\n",
        "            return response.json()\n",
        "        except requests.exceptions.RequestException as e:\n",
        "            return {\"error\": f\"Request failed: {str(e)}\"}\n",
        "\n",
        "class HistoricalSectorPerformanceTool(BaseTool):\n",
        "    \"\"\"\n",
        "    Tool to retrieve historical sector performance data.\n",
        "\n",
        "    Allows agent to specify from_date and to_date parameters freely.\n",
        "    \"\"\"\n",
        "    name: str = \"Historical Sector Performance Tool\"\n",
        "    description: str = \"Retrieves historical sector performance data between specified dates\"\n",
        "\n",
        "    def _run(self, from_date: str, to_date: str, *args, **kwargs) -> Dict[str, Any]:\n",
        "        \"\"\"\n",
        "        Retrieve historical sector performance for specified date range.\n",
        "\n",
        "        Args:\n",
        "            from_date (str): Start date for performance calculation\n",
        "            to_date (str): End date for performance calculation\n",
        "\n",
        "        Returns:\n",
        "            Dict containing historical sector performance data\n",
        "        \"\"\"\n",
        "        url = f\"https://financialmodelingprep.com/api/v3/historical-sectors-performance?from={from_date}&to={to_date}&apikey=jC73g3RPCMZgUjI53dgjJsyuUszaZ2MX\"\n",
        "\n",
        "        try:\n",
        "            response = requests.get(url)\n",
        "            response.raise_for_status()\n",
        "            return response.json()\n",
        "        except requests.exceptions.RequestException as e:\n",
        "            return {\"error\": f\"Request failed: {str(e)}\"}\n",
        "# Create tool instances with default API key\n",
        "sector_performance_tool = SectorPerformanceTool()\n",
        "historical_performance_tool = HistoricalSectorPerformanceTool()\n"
      ],
      "metadata": {
        "id": "qqFsG15sCOPC"
      },
      "execution_count": null,
      "outputs": []
    },
    {
      "cell_type": "code",
      "source": [
        "user_input_agent = Agent(\n",
        "    role=\"Financial Intake Specialist\",\n",
        "    goal=\"Transform subjective investor inputs into a comprehensive, quantifiable investment profile that guides subsequent analytical processes.\",\n",
        "    backstory=\"A meticulous financial intake specialist who transforms raw investor preferences into structured, actionable investment parameters. Skilled in extracting nuanced investment goals, risk appetite, and financial constraints through precise questioning and advanced data validation techniques.\",\n",
        "    verbose=True,\n",
        "    allow_delegation=True,\n",
        "    tools=[scrape_tool, search_tool]\n",
        ")"
      ],
      "metadata": {
        "id": "wxVIEqHKCORP"
      },
      "execution_count": null,
      "outputs": []
    },
    {
      "cell_type": "code",
      "source": [
        "risk_assessment_agent = Agent(\n",
        "    role=\"Comprehensive Risk Strategist\",\n",
        "    goal=\"Generate nuanced risk profiles that illuminate sector-specific vulnerabilities and investment strategy constraints, providing actionable insights for sector selection.\",\n",
        "    backstory=\"A meticulous risk architect who deconstructs investment landscapes by mapping intricate risk interconnections across various economic sectors. Specializes in translating complex risk dynamics into strategic sector recommendations that balance potential returns with comprehensive risk mitigation strategies.\",\n",
        "    verbose=True,\n",
        "    allow_delegation=False,\n",
        "    tools=[search_tool, scrape_tool]\n",
        ")"
      ],
      "metadata": {
        "id": "1jNJVdF3COTk"
      },
      "execution_count": null,
      "outputs": []
    },
    {
      "cell_type": "code",
      "source": [
        "trading_strategy_agent = Agent(\n",
        "    role=\"Market Opportunity Architect\",\n",
        "    goal=\"Develop a strategic framework that identifies high-potential sectors and stock characteristics by analyzing market trends, trading patterns, and performance indicators.\",\n",
        "    backstory=\"A sophisticated market strategist who synthesizes complex trading dynamics, leveraging advanced technical analysis and predictive modeling to uncover hidden market opportunities. Transforms raw market data into a strategic blueprint for sector and stock selection.\",\n",
        "    verbose=True,\n",
        "    allow_delegation=False,\n",
        "    tools=[search_tool, scrape_tool]\n",
        ")"
      ],
      "metadata": {
        "id": "XD3cljtfCOVk"
      },
      "execution_count": null,
      "outputs": []
    },
    {
      "cell_type": "code",
      "source": [
        "sector_selection_agent = Agent(\n",
        "    role=\"Strategic Indian Sector Investment Advisor\",\n",
        "    goal=(\n",
        "        \"Identify and rank the top-performing sectors in the Indian stock market by analyzing insights from risk assessment and trading strategy agents. \"\n",
        "        \"Select at least two top sectors, each with a list of at least six high-potential Indian stocks, leveraging tools for sector performance and historical analysis. \"\n",
        "        \"Pass this data, along with relevant insights, to the Stock Information Agent for detailed stock filtering.\"\n",
        "    ),\n",
        "    backstory=(\n",
        "        \"An astute market strategist proficient in analyzing sector-level trends in the Indian stock market using both current and historical data. \"\n",
        "        \"Specializes in aligning sector choices with user-specific investment strategies and risk profiles while providing a solid foundation for further stock analysis.\"\n",
        "    ),\n",
        "    verbose=True,\n",
        "    allow_delegation=False,\n",
        "    tools=[\n",
        "        sector_performance_tool,\n",
        "        historical_performance_tool\n",
        "\n",
        "    ]\n",
        ")"
      ],
      "metadata": {
        "id": "hONc8iaPCOYH"
      },
      "execution_count": null,
      "outputs": []
    },
    {
      "cell_type": "code",
      "source": [
        "stock_information_agent = Agent(\n",
        "    role=\"Precision Indian Stock Data Architect\",\n",
        "    goal=(\n",
        "        \"Filter and select the top five Indian stocks from the list provided by the Sector Selection Agent by evaluating strategic financial metrics. \"\n",
        "        \"Leverage insights from risk assessment and trading strategy agents to determine the most relevant metrics for stock performance analysis.\"\n",
        "    ),\n",
        "    backstory=(\n",
        "        \"A meticulous financial data analyst specializing in the Indian stock market, adept at extracting meaningful investment insights from raw stock data. \"\n",
        "        \"Excels in identifying high-potential Indian stocks tailored to strategic and risk-adjusted investment goals.\"\n",
        "    ),\n",
        "    verbose=True,\n",
        "    allow_delegation=False,\n",
        "    tools=[\n",
        "        stock_data_tool\n",
        "\n",
        "    ]\n",
        ")"
      ],
      "metadata": {
        "id": "G_cMmM0iCOaS"
      },
      "execution_count": null,
      "outputs": []
    },
    {
      "cell_type": "code",
      "source": [
        "recommendation_engine_agent = Agent(\n",
        "    role=\"Personalized Stock Recommendation Specialist\",\n",
        "    goal=(\n",
        "        \"Aggregate and present well-structured stock recommendations based on the refined stock list provided by the Stock Information Agent. \"\n",
        "        \"Retrieve current stock prices using scraping and search tools, and provide clear explanations for each stock's selection tailored to the user's financial goals.\"\n",
        "    ),\n",
        "    backstory=(\n",
        "        \"A dedicated financial advisor specializing in synthesizing market insights into actionable stock recommendations. \"\n",
        "        \"Utilizes advanced tools to ensure each recommendation aligns with the user's risk tolerance, investment strategy, and sector preferences.\"\n",
        "    ),\n",
        "    verbose=True,\n",
        "    allow_delegation=True,\n",
        "    tools=[\n",
        "        scrape_tool,\n",
        "        search_tool\n",
        "    ]\n",
        ")"
      ],
      "metadata": {
        "id": "juKr-6XuCOco"
      },
      "execution_count": null,
      "outputs": []
    },
    {
      "cell_type": "code",
      "source": [
        "user_input_task = Task(\n",
        "    description=(\n",
        "        \"Meticulously collect and validate detailed user inputs. \"\n",
        "        \"Extract comprehensive investor profile including initial capital, risk tolerance, \"\n",
        "        \"and trading strategy. Ensure data integrity through advanced validation techniques. \"\n",
        "        \"Prepare a structured input profile for subsequent agent analysis.\"\n",
        "    ),\n",
        "    expected_output=(\n",
        "        \"Validated and structured user investment profile with comprehensive input details.\"\n",
        "    ),\n",
        "    agent=user_input_agent,\n",
        ")"
      ],
      "metadata": {
        "id": "iN4Ng6dhCOez"
      },
      "execution_count": null,
      "outputs": []
    },
    {
      "cell_type": "code",
      "source": [
        "risk_assessment_task = Task(\n",
        "    description=(\n",
        "        \"Conduct a comprehensive risk assessment that goes beyond traditional metrics. \"\n",
        "        \"Generate a detailed risk landscape highlighting sector-specific vulnerabilities, \"\n",
        "        \"emerging market risks, and strategic risk mitigation approaches. \"\n",
        "        \"Produce insights that directly inform sector selection and stock filtering strategies.\"\n",
        "    ),\n",
        "    expected_output=(\n",
        "        \"Comprehensive risk assessment report with sector risk rankings, \"\n",
        "        \"potential market vulnerabilities, and strategic risk mitigation recommendations.\"\n",
        "    ),\n",
        "    agent=risk_assessment_agent,\n",
        ")"
      ],
      "metadata": {
        "id": "70qchsIhCOhL"
      },
      "execution_count": null,
      "outputs": []
    },
    {
      "cell_type": "code",
      "source": [
        "trading_strategy_task = Task(\n",
        "    description=(\n",
        "        \"Develop a sophisticated market opportunity framework that identifies \"\n",
        "        \"ideal sector characteristics and stock selection criteria. Analyze \"\n",
        "        \"trading patterns, market trends, and performance indicators to \"\n",
        "        \"create a strategic blueprint for sector and stock identification.\"\n",
        "    ),\n",
        "    expected_output=(\n",
        "        \"Strategic framework detailing sector selection criteria, \"\n",
        "        \"stock performance indicators, and market opportunity analysis.\"\n",
        "    ),\n",
        "    agent=trading_strategy_agent,\n",
        ")"
      ],
      "metadata": {
        "id": "kkDvE6OECOks"
      },
      "execution_count": null,
      "outputs": []
    },
    {
      "cell_type": "code",
      "source": [
        "sector_selection_task = Task(\n",
        "    description=(\n",
        "        \"Analyze insights from the Risk Assessment and Trading Strategy agents to rank and recommend at least two top-performing sectors in the Indian stock market. \"\n",
        "        \"For each sector, identify at least six high-potential Indian stocks based on comprehensive performance data and historical trends. \"\n",
        "        \"Provide a detailed rationale for sector and stock selection, and pass this data along with the insights to the Stock Information Agent.\"\n",
        "    ),\n",
        "    expected_output=(\n",
        "        \"A ranked list of at least two sectors in the Indian stock market with detailed insights and a list of at least six recommended Indian stocks for each sector. \"\n",
        "        \"Additional insights for further processing by the Stock Information Agent.\"\n",
        "    ),\n",
        "    agent=sector_selection_agent\n",
        ")"
      ],
      "metadata": {
        "id": "KZnrRpdpCqJA"
      },
      "execution_count": null,
      "outputs": []
    },
    {
      "cell_type": "code",
      "source": [
        "stock_information_task = Task(\n",
        "    description=(\n",
        "        \"Evaluate the stock list and insights provided by the Sector Selection Agent to identify the top five stocks from the Indian stock market \"\n",
        "        \"using relevant financial metrics. Use the insights from Risk Assessment and Trading Strategy agents to guide the selection process.\"\n",
        "    ),\n",
        "    expected_output=(\n",
        "        \"A refined list of the top five stocks from the Indian stock market, with a detailed explanation of the selection criteria \"\n",
        "        \"and relevance to the user's investment strategy.\"\n",
        "    ),\n",
        "    agent=stock_information_agent\n",
        ")"
      ],
      "metadata": {
        "id": "fLze2Cy_Cqls"
      },
      "execution_count": null,
      "outputs": []
    },
    {
      "cell_type": "code",
      "source": [
        "recommendation_engine_task = Task(\n",
        "    description=(\n",
        "        \"Retrieve the finalized stock list from the Stock Information Agent and provide detailed recommendations for each stock. \"\n",
        "        \"For each stock, include the following details: \"\n",
        "        \"- **Stock Name**: Name of the stock. \"\n",
        "        \"- **Current Stock Price**: Retrieve the latest stock price using the primary data source. \"\n",
        "        \"  If unavailable, use search and scrape tools to find the stock price. \"\n",
        "        \"- **Explanation**: Justify the stock's selection based on user inputs such as risk tolerance, investment strategy, and sector preferences. \"\n",
        "        \"Ensure fallback methods are employed for missing data and present the information in a clear, well-structured format for user review.\"\n",
        "    ),\n",
        "    expected_output=(\n",
        "        \"A detailed and structured list of recommended stocks, including their names, current prices (using fallback tools if needed), and explanations for selection.\"\n",
        "    ),\n",
        "    agent=recommendation_engine_agent\n",
        ")"
      ],
      "metadata": {
        "id": "ImKY2yrYeQjX"
      },
      "execution_count": null,
      "outputs": []
    },
    {
      "cell_type": "code",
      "source": [
        "from crewai import Crew, Process\n",
        "from langchain_openai import ChatOpenAI\n",
        "\n",
        "# Define the crew with agents and tasks\n",
        "financial_trading_crew = Crew(\n",
        "   agents=[\n",
        "       user_input_agent,\n",
        "       risk_assessment_agent,\n",
        "       trading_strategy_agent,\n",
        "       sector_selection_agent,\n",
        "       stock_information_agent,\n",
        "       recommendation_engine_agent\n",
        "   ],\n",
        "\n",
        "   tasks=[\n",
        "       user_input_task,\n",
        "       risk_assessment_task,\n",
        "       trading_strategy_task,\n",
        "       sector_selection_task,\n",
        "       stock_information_task,\n",
        "       recommendation_engine_task\n",
        "   ],\n",
        "   manager_llm=ChatOpenAI(model=\"gpt-3.5-turbo\", temperature=0.7),\n",
        "   process='sequential'\n",
        ")"
      ],
      "metadata": {
        "id": "M_ll_f_xCt1b"
      },
      "execution_count": null,
      "outputs": []
    },
    {
      "cell_type": "code",
      "source": [
        "financial_trading_inputs = {\n",
        "        'initial_capital': '100000',\n",
        "        'risk_tolerance': 'Medium',\n",
        "        'trading_strategy_preference': 'Day Trading',\n",
        "    }"
      ],
      "metadata": {
        "id": "THhEd3kMCt3t"
      },
      "execution_count": null,
      "outputs": []
    },
    {
      "cell_type": "code",
      "source": [
        "\n",
        "result = financial_trading_crew.kickoff(inputs=financial_trading_inputs)"
      ],
      "metadata": {
        "id": "HVoz4Ol6Ct7S"
      },
      "execution_count": null,
      "outputs": []
    },
    {
      "cell_type": "markdown",
      "source": [],
      "metadata": {
        "id": "KJ8CmdLlG0OP"
      }
    },
    {
      "cell_type": "code",
      "source": [
        "from IPython.display import Markdown\n",
        "Markdown(result)"
      ],
      "metadata": {
        "id": "h6t-PWx6CywS"
      },
      "execution_count": null,
      "outputs": []
    },
    {
      "cell_type": "code",
      "source": [
        "!pip install flask pyngrok"
      ],
      "metadata": {
        "colab": {
          "base_uri": "https://localhost:8080/"
        },
        "id": "BQyZ27R9G2g_",
        "outputId": "42e71f77-3d05-4869-b3e6-5eea4dad48a5"
      },
      "execution_count": null,
      "outputs": [
        {
          "output_type": "stream",
          "name": "stdout",
          "text": [
            "Requirement already satisfied: flask in /usr/local/lib/python3.10/dist-packages (3.1.0)\n",
            "Collecting pyngrok\n",
            "  Downloading pyngrok-7.2.2-py3-none-any.whl.metadata (8.4 kB)\n",
            "Requirement already satisfied: Werkzeug>=3.1 in /usr/local/lib/python3.10/dist-packages (from flask) (3.1.3)\n",
            "Requirement already satisfied: Jinja2>=3.1.2 in /usr/local/lib/python3.10/dist-packages (from flask) (3.1.4)\n",
            "Requirement already satisfied: itsdangerous>=2.2 in /usr/local/lib/python3.10/dist-packages (from flask) (2.2.0)\n",
            "Requirement already satisfied: click>=8.1.3 in /usr/local/lib/python3.10/dist-packages (from flask) (8.1.7)\n",
            "Requirement already satisfied: blinker>=1.9 in /usr/local/lib/python3.10/dist-packages (from flask) (1.9.0)\n",
            "Requirement already satisfied: PyYAML>=5.1 in /usr/local/lib/python3.10/dist-packages (from pyngrok) (6.0.2)\n",
            "Requirement already satisfied: MarkupSafe>=2.0 in /usr/local/lib/python3.10/dist-packages (from Jinja2>=3.1.2->flask) (3.0.2)\n",
            "Downloading pyngrok-7.2.2-py3-none-any.whl (22 kB)\n",
            "Installing collected packages: pyngrok\n",
            "Successfully installed pyngrok-7.2.2\n"
          ]
        }
      ]
    },
    {
      "cell_type": "code",
      "source": [
        "from flask import Flask, request\n",
        "from pyngrok import ngrok\n",
        "# from flask_cors import CORS\n",
        "# CORS(app, resources={r\"/stockRecommandation\": {\"origins\": \"https://wealthwise.vercel.app\"}})\n",
        "\n",
        "app = Flask(__name__)\n",
        "\n",
        "@app.route('/')\n",
        "def hello():\n",
        "    return \"Hello, World!\"\n",
        "\n",
        "# POST route to print body content\n",
        "@app.route('/stockRecommandation', methods=['POST'])\n",
        "def stock_recommendation():\n",
        "    try:\n",
        "        content = request.json\n",
        "        result = financial_trading_crew.kickoff(inputs=content)\n",
        "        return {\"status\": \"success\", \"received\": result}, 200\n",
        "    except Exception as e:\n",
        "        print(f\"Error: {e}\")\n",
        "        return {\"status\": \"error\", \"message\": str(e)}, 500\n",
        "\n",
        "# Start ngrok tunnel\n",
        "NGROK_DOMAIN = \"keen-marten-tops.ngrok-free.app\"\n",
        "ngrok.set_auth_token(\"2lGTrPfKaseITcmgdp5ZXnaCrl6_2ABHvnjSSZ9WpLFvV8a2u\")\n",
        "\n",
        "tunnel_config = {\n",
        "    \"addr\": PORT,\n",
        "    \"hostname\": NGROK_DOMAIN\n",
        "}\n",
        "public_url = ngrok.connect(**tunnel_config)\n",
        "print(f\"Public URL: {public_url}\")  # Specify port as an integer and protocol as \"http\"\n",
        "print(f\" * ngrok tunnel \\\"{public_url}\\\" -> \\\"http://127.0.0.1:5000\\\"\")\n",
        "\n",
        "if __name__ == '__main__':\n",
        "    app.run(port=5000)"
      ],
      "metadata": {
        "id": "n65p-TzF1xc9",
        "colab": {
          "base_uri": "https://localhost:8080/"
        },
        "outputId": "713d9de4-9a20-4288-91b9-c5b11711bd42"
      },
      "execution_count": null,
      "outputs": [
        {
          "output_type": "stream",
          "name": "stdout",
          "text": [
            "Public URL: NgrokTunnel: \"https://keen-marten-tops.ngrok-free.app\" -> \"http://localhost:5000\"\n",
            " * ngrok tunnel \"NgrokTunnel: \"https://keen-marten-tops.ngrok-free.app\" -> \"http://localhost:5000\"\" -> \"http://127.0.0.1:5000\"\n",
            " * Serving Flask app '__main__'\n",
            " * Debug mode: off\n"
          ]
        },
        {
          "output_type": "stream",
          "name": "stderr",
          "text": [
            "INFO:werkzeug:\u001b[31m\u001b[1mWARNING: This is a development server. Do not use it in a production deployment. Use a production WSGI server instead.\u001b[0m\n",
            " * Running on http://127.0.0.1:5000\n",
            "INFO:werkzeug:\u001b[33mPress CTRL+C to quit\u001b[0m\n",
            "INFO:werkzeug:127.0.0.1 - - [24/Dec/2024 05:31:54] \"GET / HTTP/1.1\" 200 -\n",
            "INFO:werkzeug:127.0.0.1 - - [24/Dec/2024 05:31:55] \"\u001b[33mGET /favicon.ico HTTP/1.1\u001b[0m\" 404 -\n",
            "INFO:werkzeug:127.0.0.1 - - [24/Dec/2024 05:32:44] \"GET / HTTP/1.1\" 200 -\n",
            "INFO:werkzeug:127.0.0.1 - - [24/Dec/2024 05:33:07] \"GET / HTTP/1.1\" 200 -\n",
            "INFO:werkzeug:127.0.0.1 - - [24/Dec/2024 05:33:21] \"GET / HTTP/1.1\" 200 -\n",
            "INFO:werkzeug:127.0.0.1 - - [24/Dec/2024 05:33:22] \"\u001b[33mGET /favicon.ico HTTP/1.1\u001b[0m\" 404 -\n",
            "WARNING:pyngrok.process.ngrok:t=2024-12-24T05:35:03+0000 lvl=warn msg=\"Stopping forwarder\" name=http-5000-e93abd20-302f-4a43-bd38-680e4081a428 acceptErr=\"failed to accept connection: Listener closed\"\n",
            "WARNING:pyngrok.process.ngrok:t=2024-12-24T05:35:03+0000 lvl=warn msg=\"Error restarting forwarder\" name=http-5000-e93abd20-302f-4a43-bd38-680e4081a428 err=\"failed to start tunnel: session closed\"\n"
          ]
        }
      ]
    }
  ]
}